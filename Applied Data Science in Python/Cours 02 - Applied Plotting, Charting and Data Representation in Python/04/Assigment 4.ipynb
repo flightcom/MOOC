{
 "cells": [
  {
   "cell_type": "markdown",
   "metadata": {},
   "source": [
    "# Assigment 4\n",
    "\n",
    "### Cloud-to-ground lightning strikes over past 10 years (2007-2016) in Montreal and Ann Arbor comparison\n",
    "\n",
    "Datasets :\n",
    "\n",
    "- Montreal:\n",
    "  - https://www.ncdc.noaa.gov/swdiws/csv/nldn/20070101:20170101/?stat=tilesum:-73.499,45.682\n",
    "  - https://www.ncdc.noaa.gov/swdiws/csv/nldn/20070101:20170101/?stat=tilesum:-73.514,45.627\n",
    "  - https://www.ncdc.noaa.gov/swdiws/csv/nldn/20070101:20170101/?stat=tilesum:-73.496,45.512\n",
    "  - https://www.ncdc.noaa.gov/swdiws/csv/nldn/20070101:20170101/?stat=tilesum:-73.504,45.429\n",
    "  - https://www.ncdc.noaa.gov/swdiws/csv/nldn/20070101:20170101/?stat=tilesum:-73.588,45.407\n",
    "  - https://www.ncdc.noaa.gov/swdiws/csv/nldn/20070101:20170101/?stat=tilesum:-73.614,45.495\n",
    "  - https://www.ncdc.noaa.gov/swdiws/csv/nldn/20070101:20170101/?stat=tilesum:-73.61,45.583\n",
    "  - https://www.ncdc.noaa.gov/swdiws/csv/nldn/20070101:20170101/?stat=tilesum:-73.603,45.578\n",
    "  - https://www.ncdc.noaa.gov/swdiws/csv/nldn/20070101:20170101/?stat=tilesum:-73.683,45.596\n",
    "  - https://www.ncdc.noaa.gov/swdiws/csv/nldn/20070101:20170101/?stat=tilesum:-73.689,45.504\n",
    "  - https://www.ncdc.noaa.gov/swdiws/csv/nldn/20070101:20170101/?stat=tilesum:-73.7,45.424\n",
    "  - https://www.ncdc.noaa.gov/swdiws/csv/nldn/20070101:20170101/?stat=tilesum:-73.783,45.411\n",
    "  - https://www.ncdc.noaa.gov/swdiws/csv/nldn/20070101:20170101/?stat=tilesum:-73.802,45.494\n",
    "  - https://www.ncdc.noaa.gov/swdiws/csv/nldn/20070101:20170101/?stat=tilesum:-73.898,45.505\n",
    "  - https://www.ncdc.noaa.gov/swdiws/csv/nldn/20070101:20170101/?stat=tilesum:-73.895,45.419\n",
    "  - https://www.ncdc.noaa.gov/swdiws/csv/nldn/20070101:20170101/?stat=tilesum:-73.989,45.404\n",
    "\n",
    "\n",
    "- Ann Arbor\n",
    "  - https://www.ncdc.noaa.gov/swdiws/csv/nldn/20070101:20170101/?stat=tilesum:-83.736,42.293\n",
    "  - https://www.ncdc.noaa.gov/swdiws/csv/nldn/20070101:20170101/?stat=tilesum:-83.712,42.231\n",
    "  - https://www.ncdc.noaa.gov/swdiws/csv/nldn/20070101:20170101/?stat=tilesum:-83.782,42.226\n",
    "  - https://www.ncdc.noaa.gov/swdiws/csv/nldn/20070101:20170101/?stat=tilesum:-83.806,42.3\n",
    "  - https://www.ncdc.noaa.gov/swdiws/csv/nldn/20070101:20170101/?stat=tilesum:-83.621,42.4\n",
    "  - https://www.ncdc.noaa.gov/swdiws/csv/nldn/20070101:20170101/?stat=tilesum:-83.609,42.311\n",
    "  - https://www.ncdc.noaa.gov/swdiws/csv/nldn/20070101:20170101/?stat=tilesum:-83.603,42.217\n",
    "  - https://www.ncdc.noaa.gov/swdiws/csv/nldn/20070101:20170101/?stat=tilesum:-83.603,42.121\n",
    "  - https://www.ncdc.noaa.gov/swdiws/csv/nldn/20070101:20170101/?stat=tilesum:-83.719,42.118\n",
    "  - https://www.ncdc.noaa.gov/swdiws/csv/nldn/20070101:20170101/?stat=tilesum:-83.808,42.131\n",
    "  - https://www.ncdc.noaa.gov/swdiws/csv/nldn/20070101:20170101/?stat=tilesum:-83.925,42.122\n",
    "  - https://www.ncdc.noaa.gov/swdiws/csv/nldn/20070101:20170101/?stat=tilesum:-83.916,42.199\n",
    "  - https://www.ncdc.noaa.gov/swdiws/csv/nldn/20070101:20170101/?stat=tilesum:-83.897,42.299\n",
    "  - https://www.ncdc.noaa.gov/swdiws/csv/nldn/20070101:20170101/?stat=tilesum:-83.911,42.391\n",
    "  - https://www.ncdc.noaa.gov/swdiws/csv/nldn/20070101:20170101/?stat=tilesum:-83.769,42.405\n",
    "  - https://www.ncdc.noaa.gov/swdiws/csv/nldn/20070101:20170101/?stat=tilesum:-83.703,42.415\n"
   ]
  },
  {
   "cell_type": "code",
   "execution_count": 253,
   "metadata": {},
   "outputs": [],
   "source": [
    "import pandas as pd\n",
    "import numpy as np\n",
    "import datetime as dt\n",
    "import time\n",
    "import matplotlib.pyplot as plt\n",
    "\n",
    "%matplotlib notebook\n",
    "\n",
    "MTL_FILE='NLDN/MTL.csv'\n",
    "AAB_FILE='NLDN/AAB.csv'\n",
    "\n",
    "df_MTL = pd.read_csv(MTL_FILE)\n",
    "\n",
    "df_AAB = pd.read_csv(AAB_FILE)\n",
    "\n",
    "# df_MTL['DAY']\n",
    "# df_MTL\n"
   ]
  },
  {
   "cell_type": "code",
   "execution_count": 254,
   "metadata": {
    "collapsed": true
   },
   "outputs": [],
   "source": [
    "def clean_data(df):\n",
    "    start = dt.datetime(2007, 1, 1)\n",
    "    end   = dt.datetime(2016, 12, 31)\n",
    "    dates = pd.DataFrame({'DAY': pd.date_range(start, end)})\n",
    "    df['DAY'] = pd.to_datetime(df['DAY'])\n",
    "    cols = ['DAY', 'FCOUNT']\n",
    "    df = df[cols]\n",
    "    df = df.groupby(['DAY']).count()\n",
    "    df = dates.merge(df, left_on='DAY', right_index=True, how='left')\n",
    "    return df"
   ]
  },
  {
   "cell_type": "code",
   "execution_count": 271,
   "metadata": {},
   "outputs": [
    {
     "data": {
      "text/plain": [
       "Int64Index([2007, 2007, 2007, 2007, 2007, 2007, 2007, 2007, 2007, 2007,\n",
       "            ...\n",
       "            2016, 2016, 2016, 2016, 2016, 2016, 2016, 2016, 2016, 2016],\n",
       "           dtype='int64', name='DAY', length=3653)"
      ]
     },
     "execution_count": 271,
     "metadata": {},
     "output_type": "execute_result"
    }
   ],
   "source": [
    "df = clean_data(df_MTL)\n",
    "# df.plot()\n",
    "df = df.set_index(df['DAY'])\n",
    "# df = df.groupby(df.index.month,df.index.day)\n",
    "df.index.year"
   ]
  },
  {
   "cell_type": "code",
   "execution_count": 256,
   "metadata": {},
   "outputs": [],
   "source": [
    "start = dt.datetime(2007, 1, 1)\n",
    "end   = dt.datetime(2016, 12, 31)\n",
    "dates = pd.DataFrame({'DAY': pd.date_range(start, end)})\n",
    "dates['DAY'] = pd.to_datetime(dates['DAY'])\n",
    "# dates['DAY']"
   ]
  },
  {
   "cell_type": "code",
   "execution_count": null,
   "metadata": {
    "collapsed": true
   },
   "outputs": [],
   "source": []
  }
 ],
 "metadata": {
  "kernelspec": {
   "display_name": "Python 3",
   "language": "python",
   "name": "python3"
  },
  "language_info": {
   "codemirror_mode": {
    "name": "ipython",
    "version": 3
   },
   "file_extension": ".py",
   "mimetype": "text/x-python",
   "name": "python",
   "nbconvert_exporter": "python",
   "pygments_lexer": "ipython3",
   "version": "3.6.1"
  }
 },
 "nbformat": 4,
 "nbformat_minor": 2
}
